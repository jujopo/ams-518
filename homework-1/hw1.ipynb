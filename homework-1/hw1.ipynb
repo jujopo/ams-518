{
 "cells": [
  {
   "cell_type": "markdown",
   "id": "c80797c4",
   "metadata": {},
   "source": [
    "## AMS 518. Homework 1\n",
    "### Juan Perez Osorio - SBU ID: 116248538"
   ]
  },
  {
   "cell_type": "markdown",
   "id": "5a9aa003",
   "metadata": {},
   "source": [
    "### Problem 1\n",
    "$$\n",
    "\\min_{\\vec{x}} \\epsilon(\\vec{x}, \\vec{\\theta})\n",
    "$$\n",
    "subject to:\n",
    "$$\n",
    "\\sum_{i=0}^I a_i |x_i - x_i^0| \\leq b\n",
    "$$\n",
    "$$\n",
    "\\sum_{i=0}^I \\sigma(x_i) \\leq k\n",
    "$$\n",
    "$$\n",
    "l_i \\leq x_i \\leq u_i, \\quad i = 0, \\ldots, I\n",
    "$$\n",
    "\n",
    "---\n",
    "\n",
    "### Problem 2\n",
    "$$\n",
    "\\min_{\\vec{x},\\vec{s},\\vec{y}} \\frac{1}{J} \\sum_{j=1}^J y_j\n",
    "$$\n",
    "subject to:\n",
    "$$\n",
    "s_j = \\theta_{j0} - \\left(x_0 + \\sum_{i=1}^I \\theta_{ij} x_i\\right), \\quad j = 1, \\ldots, J\n",
    "$$\n",
    "$$\n",
    "y_j \\geq s_j,\\quad y_j \\geq -s_j, \\quad j = 1, \\ldots, J\n",
    "$$\n",
    "$$\n",
    "\\sum_{i=0}^I a_i z_i \\leq b\n",
    "$$\n",
    "$$\n",
    "z_i \\geq x_i - x_i^0,\\quad z_i \\geq -(x_i - x_i^0), \\quad i = 0, \\ldots, I\n",
    "$$\n",
    "$$\n",
    "\\sum_{i=0}^I v_i \\leq k\n",
    "$$\n",
    "$$\n",
    "l_i v_i \\leq x_i \\leq u_i v_i, \\quad v_i \\in \\{0, 1\\}, \\quad i = 0, \\ldots, I\n",
    "$$"
   ]
  },
  {
   "cell_type": "markdown",
   "id": "82fe8480",
   "metadata": {},
   "source": [
    "**Statement.** We suppose that Problem 1 has a feasible solution. Problem 1 and Problem 2 are equivalent in the following sense. Suppose that Problem 1 has an optimal solution point $\\vec{x}^*$, then there exists a vector $(\\vec{x}^*, \\vec{s}^*, \\vec{y}^*)$ which is an optimal solution point of Problem 2 and $\\epsilon(\\vec{x}^*, \\vec{\\theta}) = \\frac{1}{J}\\sum_{j=1}^J y_j^*$. Then suppose that Problem 2 has an optimal solution point $(\\vec{x}^*, \\vec{s}^*, \\vec{y}^*)$, then $\\vec{x}^*$ is an optimal solution point of Problem 1 and $\\frac{1}{J}\\sum_{j=1}^J y_j^* = \\epsilon(\\vec{x}^*, \\vec{\\theta})$."
   ]
  },
  {
   "cell_type": "markdown",
   "id": "6cfd3337",
   "metadata": {},
   "source": [
    "**Assignment 1** Provide a simple numerical example with $x \\in \\mathbb{R}^2$ and 4 rows in the extended design matrix. For this example, find an optimal solution vector $\\vec{x}^*$ and optimal objective function $\\epsilon(\\vec{x}^*,\\vec{\\theta})$. Find also corresponding optimal point $(\\vec{x}^*,\\vec{s}^*,\\vec{y}^*)$ and calculate $\\frac{1}{J}\\sum_{j=1}^J y_j^*$."
   ]
  },
  {
   "cell_type": "markdown",
   "id": "7db11da8",
   "metadata": {},
   "source": [
    "**Solution.** In RStudio we proceed to execute the following code; it contains the specifications for generating the 4 $\\times$ 3 matrix, as well as the matrix for the cardinality and budget constraints "
   ]
  },
  {
   "cell_type": "markdown",
   "id": "4c7989e1",
   "metadata": {
    "vscode": {
     "languageId": "r"
    }
   },
   "source": [
    "~~~R \n",
    "library(PSG)\n",
    "\n",
    "# Create the problem list\n",
    "problem_list_1 <- list()\n",
    "\n",
    "# Create a matrix of scenarios, i.e.,  observations (theta_1, theta_2, y)\n",
    "matrix_1 <- matrix(rnorm(12, mean = 0, sd = 1), ncol = 3)\n",
    "\n",
    "# Give column names\n",
    "colnames(matrix_1) <- c(\"x1\", \"x2\", \"scenario_benchmark\")\n",
    "\n",
    "# Create a matrix of coefficients for linear constraints\n",
    "matrix_2 <- matrix(c(2, 1), ncol = 2)\n",
    "\n",
    "# Give col names\n",
    "colnames(matrix_2) <- c(\"x1\", \"x2\")\n",
    "\n",
    "# Create a matrix for cardinality constraint\n",
    "matrix_3 <- matrix(c(1,1,0),ncol = 3)\n",
    "colnames(matrix_3) <- c(\"x1\", \"x2\", \"scenario_benchmark\")\n",
    "\n",
    "# Fill the list\n",
    "problem_list_1$matrix_scenario <- matrix_1\n",
    "\n",
    "problem_list_1$matrix_linear_constraints <- matrix_2\n",
    "\n",
    "problem_list_1$matrix_constraint_card_new <- matrix_3\n",
    "\n",
    "problem_list_1$problem_statement <- sprintf (\n",
    "  \"\n",
    "minimize\n",
    "Meanabs_err(matrix_scenario)\n",
    "\n",
    "Constraint: <= 2\n",
    "linear(matrix_linear_constraints)\n",
    "\n",
    "Constraint: <= 1, linearize = 1\n",
    "cardn(0.001, matrix_constraint_card_new)\n",
    "\n",
    "Box: >= 0\n",
    "\n",
    "Solver: car\n",
    "   \"\n",
    ")\n",
    "\n",
    "#calculate and store the results\n",
    "results_1 <- rpsg_solver(problem_list = problem_list_1)\n",
    "~~~"
   ]
  },
  {
   "cell_type": "markdown",
   "id": "e8877787",
   "metadata": {},
   "source": [
    "The data that we have generated is the following:"
   ]
  },
  {
   "cell_type": "markdown",
   "id": "fc5000ed",
   "metadata": {},
   "source": [
    "|   | $x_1$   | $x_2$   | scenario_benchmark |\n",
    "|:-:|:-----:|:----:|:----------------:|\n",
    "| 1 | -0.21 | 0.41 | 0.24             |\n",
    "| 2 | 0.93  | 0.73 | 1.83             |\n",
    "| 3 | 0.60  | 1.38 | 0.58             |\n",
    "| 4 | 0.77  | 0.99 | 1.12             |\n",
    "\n",
    "<p style=\"text-align:center\"> Table 1. Matrix of scenarios </p>"
   ]
  },
  {
   "cell_type": "markdown",
   "id": "6efa2b4d",
   "metadata": {},
   "source": [
    "| $x_1$ | $x_2$ |\n",
    "|:--:|:--:|\n",
    "| 2  | 1  |\n",
    "\n",
    "<p style=\"text-align:center\"> Table 2. Matrix of linear constraints </p>"
   ]
  },
  {
   "cell_type": "markdown",
   "id": "562ba140",
   "metadata": {},
   "source": [
    "| $x_1$ | $x_2$ | scenario_benchmark |\n",
    "|:--:|:--:|:----------------:|\n",
    "| 1  | 1  | 0                |\n",
    "\n",
    "<p style=\"text-align:center\"> Table 3. Matrix of cardinality constraints </p>"
   ]
  },
  {
   "cell_type": "markdown",
   "id": "443518d9",
   "metadata": {},
   "source": [
    "After solving using PSG we obtain the following results:\n",
    "\n",
    "~~~R\n",
    "Solution is optimal\n",
    "Calculating resulting outputs. Writing solution.\n",
    "Objective: objective = 0.564311212678 [0.179892898839]\n",
    "Solver has normally finished. Solution was saved.\n",
    "Problem: problem_1, solution_status = optimal\n",
    "Timing: data_loading_time = 0.14, preprocessing_time = 0.01, solving_time = 0.01\n",
    "Variables: optimal_point = point_problem_1\n",
    "Objective: objective = 0.564311212678 [0.179892898839]\n",
    "Constraint: constraint_1 =  1.431752776115E+00 [-5.682472238853E-01]\n",
    "Constraint: constraint_2 =  1.000000000000E+00 [ 0.000000000000E+00]\n",
    "Function: meanabs_err(matrix_scenario) =  5.643112126778E-01\n",
    "Function: pseudo_R2_meanabs_err(matrix_scenario) = -5.941646167179E-02\n",
    "Function: adjusted_pseudo_R2_meanabs_err(matrix_scenario) =  6.468611794427E-01\n",
    "Function: contributions(meanabs_err(matrix_scenario)) = point_contributions_meanabs_err\n",
    "Function: linear(matrix_linear_constraints) =  1.431752776115E+00\n",
    "Function: cardn(1.E-03,matrix_constraint_card_new) =  1.000000000000E+00\n",
    "OK. Solver Finished\n",
    "~~~"
   ]
  },
  {
   "cell_type": "markdown",
   "id": "5daa166a",
   "metadata": {},
   "source": [
    "The optimal solution vector obtained for this particular example is\n",
    "\n",
    "$$\\mathbf{x^*}=\\begin{pmatrix} x_1 \\\\ x_2 \\end{pmatrix}=\\begin{pmatrix} 0.716 \\\\ 0.000 \\end{pmatrix}$$"
   ]
  },
  {
   "cell_type": "markdown",
   "id": "f2013647",
   "metadata": {},
   "source": [
    "The corresponding value of the objective function evaluated at this point is known as the optimal objective function and it's value is"
   ]
  },
  {
   "cell_type": "markdown",
   "id": "86685c4c",
   "metadata": {},
   "source": [
    "$$\\mathbf{\\epsilon}(\\bar{x}^*, \\theta)=0.564$$"
   ]
  },
  {
   "cell_type": "markdown",
   "id": "5d7c1aed",
   "metadata": {},
   "source": [
    "**Why both approaches are equivalent?**\n",
    "\n",
    "By introducing auxiliary variables $s_j$, which represent the residuals (difference of the observed value and the predicted value), and $y_j$, which represents the absolute value of the residuals, it is clear to see that residuals $s_j$ encode the same error as in problem 1. \n",
    "\n",
    "We can see that the auxiliary conditions \n",
    "\n",
    "$$y_j \\geq \\lvert s_j\\rvert \\iff y \\geq s_j \\quad \\text{and} \\quad y \\geq -s_j$$\n",
    "\n",
    "force $y_j = \\lvert s_j\\rvert$, since we're minimizing $\\frac{1}{J} \\sum_{j=1}^J y_j$, hence the smallest feasible $y_j$ is $\\lvert s_j\\rvert$, at optimality we have the following\n",
    "\n",
    "$$\n",
    "\\begin{split}\n",
    "\\min_{\\vec{x},\\vec{s},\\vec{y}} \\frac{1}{J} \\sum_{j=1}^J y_j =& \\min_{\\vec{x},\\vec{s}} \\frac{1}{J} \\sum_{j=1}^J \\lvert s_j\\rvert \\\\\n",
    "=& \\min_{\\vec{x}} \\frac{1}{J} \\sum_{j=1}^J{\\left|\\theta_{j0} - \\left(x_0 + \\sum_{i=1}^I \\theta_{ij} x_i\\right)\\right|} \\\\\n",
    "=& \\min_{\\vec{x}} {\\epsilon(\\vec{x}, \\vec{\\theta})}\n",
    "\\end{split}\n",
    "$$\n",
    "where the last equality holds by definition of the mean absolute error. Finally, we can easily spot that the constraints are just a linearized version of the constraints in problem 1, which have been linearized by either introducing some indicator functions or by expressing the absolute value function by definition, therefore this shows that **Problem 1** and **Problem 2** are equivalent."
   ]
  },
  {
   "cell_type": "markdown",
   "metadata": {},
   "source": [
    "**Assignment 2.** Optimal hedging of CDO book"
   ]
  },
  {
   "cell_type": "markdown",
   "id": "1993a3ab",
   "metadata": {},
   "source": [
    "We first load the data to RStudio and check what are the contents of the file"
   ]
  },
  {
   "cell_type": "markdown",
   "id": "de8bcc98",
   "metadata": {},
   "source": [
    "~~~R\n",
    "> library(PSG)\n",
    "\n",
    "> load('C:/Users/JUANJO/Documents/GitHub/ams-518/problem_cdohedge_1_R_data/\n",
    "problem_cdohedge_1.RData')\n",
    "> is.list(problem.list)\n",
    "[1] TRUE\n",
    "> names(problem.list)\n",
    "[1] \"problem_name\"               \"problem_statement\"         \n",
    "[3] \"point_lowerbounds\"          \"point_upperbounds\"         \n",
    "[5] \"matrix_scenarios\"           \"matrix_constraint_budget\"  \n",
    "[7] \"matrix_constraint_card_new\"\n",
    "~~~"
   ]
  },
  {
   "cell_type": "markdown",
   "id": "12c02547",
   "metadata": {},
   "source": [
    "* How many dependent and independent variables (factors) are in the extended design matrix? How many observations (numerical rows) are in\n",
    "the matrix?"
   ]
  },
  {
   "cell_type": "markdown",
   "id": "8f234c1d",
   "metadata": {},
   "source": [
    "~~~R \n",
    "\n",
    "> nrow(problem.list$matrix_scenarios)\n",
    "[1] 50\n",
    "> ncol(problem.list$matrix_scenarios)\n",
    "[1] 1005\n",
    "~~~"
   ]
  },
  {
   "cell_type": "markdown",
   "id": "38c09fab",
   "metadata": {},
   "source": [
    "**Answer:** there are 1005 total variables, of which 1004 are independent factors and 1 is a dependent factor (the benchmark). The number of observations, same as the number of rows is 50."
   ]
  },
  {
   "cell_type": "markdown",
   "id": "e8ee9df0",
   "metadata": {},
   "source": [
    "* What available budget is equal to ($b$)? What is the maximal number of positions ($k$)? What are the box constraints ($l_i$ and $u_i$)?"
   ]
  },
  {
   "cell_type": "markdown",
   "id": "30be0a60",
   "metadata": {},
   "source": [
    "~~~R\n",
    "> problem.list$problem_statement\n",
    "[1] \"minimize\"                                       \n",
    "[2] \"linearize = 1\"                                  \n",
    "[3] \"meanabs_err(matrix_scenarios)\"                  \n",
    "[4] \"Constraint: <= 1000000, linearize = 1\"          \n",
    "[5] \"polynom_abs(matrix_constraint_budget)\"          \n",
    "[6] \"Constraint: <= 50, linearize = 1\"               \n",
    "[7] \"cardn(0.001, matrix_constraint_card_new)\"       \n",
    "[8] \"Box: >= point_lowerbounds, <= point_upperbounds\"\n",
    "[9] \"Solver: car, precision = 5\"\n",
    "~~~"
   ]
  },
  {
   "cell_type": "markdown",
   "id": "67e79d87",
   "metadata": {},
   "source": [
    "From the problem statement we can see that the available budget is $\\$1,000,000$ and the maximal number of positions is $k = 50$. We can see that we have two different set of bounds for the box constraints:"
   ]
  },
  {
   "cell_type": "markdown",
   "id": "f4fdd35f",
   "metadata": {},
   "source": [
    "~~~R \n",
    "\n",
    "> length(point_lowerbounds)\n",
    "[1] 1004\n",
    "> unique(point_lowerbounds)\n",
    "[1] -5e+06 -1e+07\n",
    "> sum(point_lowerbounds == -5e+06)\n",
    "[1] 1000\n",
    "> sum(point_lowerbounds == -1e+07)\n",
    "[1] 4\n",
    "\n",
    "> length(point_upperbounds)\n",
    "[1] 1004\n",
    "> unique(point_upperbounds)\n",
    "[1] 5e+06 1e+07\n",
    "> sum(point_upperbounds == 5e+06)\n",
    "[1] 1000\n",
    "> sum(point_upperbounds == 1e+07)\n",
    "[1] 4\n",
    "~~~"
   ]
  },
  {
   "cell_type": "markdown",
   "id": "f9a6b6d5",
   "metadata": {},
   "source": [
    "so we have the following box constraints\n",
    "\n",
    "$$(-5\\cdot10^6, 5\\cdot10^6)$$\n",
    "$$(-1\\cdot10^7, 1\\cdot10^7)$$"
   ]
  },
  {
   "cell_type": "markdown",
   "id": "d919ae64",
   "metadata": {},
   "source": [
    "* After solving the problem PSG saved an optimal point. What are the names of variables containing optimal hedging position? What is the value of budget in optimal solution? What is optimal value of the mean absolute error?"
   ]
  },
  {
   "cell_type": "markdown",
   "id": "01cd342f",
   "metadata": {},
   "source": [
    "We can see that the output list has the following data and that the solution is optimal:"
   ]
  },
  {
   "cell_type": "markdown",
   "id": "a7b70149",
   "metadata": {},
   "source": [
    "~~~R\n",
    "\n",
    "> output.list$status\n",
    "[1] \"optimal\"\n",
    "> names(output.list)\n",
    " [1] \"status\"                            \"loading.time\"                     \n",
    " [3] \"preprocessing.time\"                \"solving.time\"                     \n",
    " [5] \"objective\"                         \"gap\"                              \n",
    " [7] \"function.value\"                    \"constraint.value\"                 \n",
    " [9] \"point_constraints_problem_1\"       \"point_slack_constraints_problem_1\"\n",
    "[11] \"point_problem_1\"                   \"point_contributions_meanabs_err\"  \n",
    "~~~"
   ]
  },
  {
   "cell_type": "markdown",
   "id": "f049458a",
   "metadata": {},
   "source": [
    "The names of the variables containing optimal hedging position are the variables in ```point_problem_1``` which are not zero, we can see those by executing the following code"
   ]
  },
  {
   "cell_type": "markdown",
   "id": "c9f86e43",
   "metadata": {},
   "source": [
    "~~~R\n",
    "> point_problem_1 <- output_test.list$point_problem_1\n",
    "> hedging_points <- point_problem_1[point_problem_1 != 0]\n",
    "> hedging_points\n",
    "         h20          h24          h48         h103         h116         h140 \n",
    "-292838.1102   27393.0863   22779.5979  -12758.2266   51406.2808   -4903.5184 \n",
    "        h164         h175         h239         h276         h312         h328 \n",
    "-100611.0314 -145891.6349  219338.0152   26134.5548    -681.2306  -29770.6794 \n",
    "        h330         h333         h334         h339         h355         h368 \n",
    "  77227.5454 -344720.6544  157981.1997  -78636.2501  -51770.8141  -22684.4783 \n",
    "        h401         h433         h470         h494         h526         h533 \n",
    "  73137.1172  431686.5794  -22126.8531    2759.3238  -50007.2213  110805.2602 \n",
    "        h544         h569         h574         h613         h633         h650 \n",
    " 151737.7301    2019.1270  -26758.0743   12486.5907    3440.3362   47011.1462 \n",
    "        h655         h670         h676         h693         h703         h746 \n",
    " -42195.1782   16513.9667    8052.5790 -108032.8527    1963.9966   16459.0738 \n",
    "        h747         h780         h809         h811         h817         h855 \n",
    " -29736.0867 -262619.2573    3950.8772    7251.5506   -1173.6228   86176.0139 \n",
    "        h858         h883         h899         h925         h934         h937 \n",
    " -11824.4751   14073.0607   29244.7822   -6233.3094    2257.3883   -2889.3510 \n",
    "        h982        hbar4 \n",
    "-310586.6999   13775.6408 \n",
    "\n",
    "> length(hedging_points)\n",
    "[1] 50\n",
    "~~~"
   ]
  },
  {
   "cell_type": "markdown",
   "id": "1f6d3010",
   "metadata": {},
   "source": [
    "Indeed, we can see that the number of hedging instruments used is 50, this makes sense since this meets the cardinality constraint condition (number of factors used should be less or equal than 50). Finally, we can see that the value of budget in the optimal solution and the optimal value of the mean absolute error are given by"
   ]
  },
  {
   "cell_type": "markdown",
   "id": "814e0cab",
   "metadata": {},
   "source": [
    "~~~R\n",
    "> output_test.list$output\n",
    " [1] \"Problem: problem_1, solution_status = optimal\"                                           \n",
    " [2] \"Timing: data_loading_time = 0.19, preprocessing_time = 0.08, solving_time = 38.02\"       \n",
    " [3] \"Variables: optimal_point = point_problem_1\"                                              \n",
    " [4] \"Objective: objective = 3.196705365553E-06 [3.196705365553E-06]\"                          \n",
    " [5] \"Constraint: constraint_1 =  4.248688221019E+03 [-9.957513117790E+05]\"                    \n",
    " [6] \"Constraint: constraint_2 =  5.000000000000E+01 [ 0.000000000000E+00]\"                    \n",
    " [7] \"Function: meanabs_err(matrix_scenarios) =  3.196705365553E-06\"                           \n",
    " [8] \"Function: pseudo_R2_meanabs_err(matrix_scenarios) =  9.999999999992E-01\"                 \n",
    " [9] \"Function: contributions(meanabs_err(matrix_scenarios)) = point_contributions_meanabs_err\"\n",
    "[10] \"Function: polynom_abs(matrix_constraint_budget) =  4.248688221019E+03\"                   \n",
    "[11] \"Function: cardn(1.E-03,matrix_constraint_card_new) =  5.000000000000E+01\"      \n",
    "~~~          "
   ]
  },
  {
   "cell_type": "markdown",
   "id": "46e3897d",
   "metadata": {},
   "source": [
    "$$\\text{MAE}_\\text{opt} = 3.196 \\cdot 10^{-6}$$\n",
    "\n",
    "$$\\text{Budget} = \\$4,248.68$$"
   ]
  },
  {
   "cell_type": "markdown",
   "id": "cf53f388",
   "metadata": {},
   "source": [
    "* Suppose that we do not allow for short positions. Modify problem statement and solve the problem. Save and provide solution"
   ]
  },
  {
   "cell_type": "markdown",
   "id": "08da622f",
   "metadata": {},
   "source": [
    "New problem statement would be:"
   ]
  },
  {
   "cell_type": "markdown",
   "id": "f84b5a26",
   "metadata": {},
   "source": [
    "~~~R \n",
    "> problem.list$problem_statement[8] <- \"Box: >= 0, <= point_upperbounds\"\n",
    "> problem.list$problem_statement\n",
    "[1] \"minimize\"                                       \n",
    "[2] \"linearize = 1\"                                  \n",
    "[3] \"meanabs_err(matrix_scenarios)\"                  \n",
    "[4] \"Constraint: <= 1000000, linearize = 1\"          \n",
    "[5] \"polynom_abs(matrix_constraint_budget)\"          \n",
    "[6] \"Constraint: <= 50, linearize = 1\"               \n",
    "[7] \"cardn(0.001, matrix_constraint_card_new)\"       \n",
    "[8] \"Box: >= 0, <= point_upperbounds\"\n",
    "[9] \"Solver: car, precision = 5\"\n",
    "~~~"
   ]
  },
  {
   "cell_type": "markdown",
   "id": "8a9182ce",
   "metadata": {},
   "source": [
    "We have to set all lower bounds to zero for the box constraints. Solving the problem again with the PSG solver we obtain:"
   ]
  },
  {
   "cell_type": "markdown",
   "id": "50a262e5",
   "metadata": {},
   "source": [
    "~~~R\n",
    "\n",
    "> output_ns.list <- rpsg_solver(problem.list)\n",
    "Data successfully read from C:\\Aorda\\PSG25\\PSG25_license.bin\n",
    "Running solver\n",
    "Reading problem formulation\n",
    "Asking for data information\n",
    "Getting data\n",
    "      1.1% of scenarios is processed\n",
    "100% of matrix_scenarios was read\n",
    "100% of matrix_constraint_budget was read\n",
    "100% of matrix_constraint_card_new was read\n",
    "Start optimization\n",
    "Ext.iteration=1  Objective=0.534811988473E-08  Residual=0.000000000000E+00\n",
    "Optimization is stopped\n",
    "Solution is optimal\n",
    "Calculating resulting outputs. Writing solution.\n",
    "Objective: objective = 5.348119884729E-09 [5.348119884729E-09]\n",
    "Solver has terminated. Current solution was saved.\n",
    "Problem: problem_1, solution_status = optimal\n",
    "Timing: data_loading_time = 0.18, preprocessing_time = 0.09, solving_time = 0.35\n",
    "Variables: optimal_point = point_problem_1\n",
    "Objective: objective = 5.348119884729E-09 [5.348119884729E-09]\n",
    "Constraint: constraint_1 =  3.232423844159E+03 [-9.967675761558E+05]\n",
    "Constraint: constraint_2 =  5.000000000000E+01 [ 0.000000000000E+00]\n",
    "Function: meanabs_err(matrix_scenarios) =  5.348119884729E-09\n",
    "Function: pseudo_R2_meanabs_err(matrix_scenarios) =  1.000000000000E+00\n",
    "Function: contributions(meanabs_err(matrix_scenarios)) = point_contributions_meanabs_err\n",
    "Function: polynom_abs(matrix_constraint_budget) =  3.232423844159E+03\n",
    "Function: cardn(1.E-03,matrix_constraint_card_new) =  5.000000000000E+01\n",
    "OK. Solver Finished\n",
    "~~~"
   ]
  },
  {
   "cell_type": "markdown",
   "id": "ae81d5b6",
   "metadata": {},
   "source": [
    "As we can see, our new solution is optimal and we can now inspect our cardinality constraints, budget constraints and hedging factors"
   ]
  },
  {
   "cell_type": "markdown",
   "id": "a59ef89d",
   "metadata": {},
   "source": [
    "~~~R\n",
    "\n",
    "> point_problem_1_ns <- output_ns.list$point_problem_1\n",
    "> hedging_points_ns <- point_problem_1_ns[point_problem_1_ns != 0]\n",
    "> hedging_points_ns\n",
    "         h29          h35          h46          h53          h56          h75 \n",
    " 42566.02490  27496.51477  30718.96415 130651.60726   7481.21755  31173.93021 \n",
    "        h110         h116         h119         h125         h144         h174 \n",
    "579354.94475  19898.42563  22471.61431    787.12754  30309.36616 912150.91015 \n",
    "        h260         h262         h294         h334         h351         h366 \n",
    " 28378.33731 516857.18244   7040.92918  13662.14465  19156.84154  50512.93813 \n",
    "        h396         h399         h502         h503         h505         h506 \n",
    "  1517.69247  11905.12615  44566.64281  48123.71232     37.18653  51337.84448 \n",
    "        h509         h536         h612         h633         h655         h669 \n",
    "109963.30213  89961.11680    499.21244   4243.32171  18774.14066  37304.41791 \n",
    "        h729         h735         h737         h742         h747         h769 \n",
    " 13239.79848   2794.38151  12187.31683  39739.91353   8047.10754  49913.44199 \n",
    "        h771         h779         h783         h796         h801         h811 \n",
    " 43364.20118   1786.60035  95616.57453    652.59063   1708.28862   2098.29095 \n",
    "        h841         h851         h858         h880         h895         h901 \n",
    " 28498.58091   4345.50698    670.60409  44004.92369 329638.04991    137.63144 \n",
    "        h981         h989 \n",
    " 58579.69383  49258.27818 \n",
    "\n",
    "> length(hedging_points_ns)\n",
    "[1] 50\n",
    "\n",
    "> all(hedging_points_ns > 0)\n",
    "[1] TRUE\n",
    "~~~"
   ]
  },
  {
   "cell_type": "markdown",
   "id": "f16d413a",
   "metadata": {},
   "source": [
    "As we can see, all hedging instruments have a positive position size and the number of hedging instruments is still 50, which means that indeed we have meet the no-short condition and the cardinality constraint. The value of budget in the optimal solution and the optimal value of the mean absolute error are given by"
   ]
  },
  {
   "cell_type": "markdown",
   "id": "0165f5d1",
   "metadata": {},
   "source": [
    "~~~R\n",
    "\n",
    "> output_ns.list$output[7]\n",
    "[1] \"Function: meanabs_err(matrix_scenarios) =  5.348119884729E-09\"\n",
    "> output_ns.list$output[10]\n",
    "[1] \"Function: polynom_abs(matrix_constraint_budget) =  3.232423844159E+03\"\n",
    "~~~"
   ]
  },
  {
   "cell_type": "markdown",
   "id": "9f326254",
   "metadata": {},
   "source": [
    "$$\\text{MAE}_\\text{opt} = 5.348 \\cdot 10^{-9}$$\n",
    "\n",
    "$$\\text{Budget} = \\$3,232.42$$"
   ]
  },
  {
   "cell_type": "markdown",
   "id": "6f08f5fb",
   "metadata": {},
   "source": [
    "Double checking with the solution obtained by running the PSG executable file and modifying the lower bound constraints we can see that both results agree, hence, solution is valid."
   ]
  },
  {
   "cell_type": "code",
   "execution_count": 23,
   "id": "314ed067",
   "metadata": {},
   "outputs": [
    {
     "data": {
      "image/png": "[encoded data removed]",
      "text/plain": [
       "<IPython.core.display.Image object>"
      ]
     },
     "metadata": {},
     "output_type": "display_data"
    }
   ],
   "source": [
    "display(Image(filename=\"images/program_solution_ns.png\"))"
   ]
  }
 ],
 "metadata": {
  "kernelspec": {
   "display_name": ".venv (3.13.5)",
   "language": "python",
   "name": "python3"
  },
  "language_info": {
   "codemirror_mode": {
    "name": "ipython",
    "version": 3
   },
   "file_extension": ".py",
   "mimetype": "text/x-python",
   "name": "python",
   "nbconvert_exporter": "python",
   "pygments_lexer": "ipython3",
   "version": "3.13.5"
  }
 },
 "nbformat": 4,
 "nbformat_minor": 5
}
